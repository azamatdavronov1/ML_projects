{
 "cells": [
  {
   "cell_type": "code",
   "id": "initial_id",
   "metadata": {
    "collapsed": true,
    "ExecuteTime": {
     "end_time": "2024-10-20T09:05:06.623989Z",
     "start_time": "2024-10-20T09:05:06.588679Z"
    }
   },
   "source": [
    "import pandas as pd\n",
    "data = pd.read_csv(\"goldstock v1.csv\")\n",
    "data"
   ],
   "outputs": [
    {
     "data": {
      "text/plain": [
       "      Unnamed: 0        Date   Close    Volume    Open    High     Low\n",
       "0              0  2024-01-19  2029.3  166078.0  2027.4  2041.9  2022.2\n",
       "1              1  2024-01-18  2021.6  167013.0  2009.1  2025.6  2007.7\n",
       "2              2  2024-01-17  2006.5  245194.0  2031.7  2036.1  2004.6\n",
       "3              3  2024-01-16  2030.2  277995.0  2053.4  2062.8  2027.6\n",
       "4              4  2024-01-12  2051.6  250946.0  2033.2  2067.3  2033.1\n",
       "...          ...         ...     ...       ...     ...     ...     ...\n",
       "2506        2528  2014-01-28  1250.5   81426.0  1254.9  1261.9  1248.0\n",
       "2507        2529  2014-01-27  1263.5   63419.0  1269.9  1280.1  1252.0\n",
       "2508        2530  2014-01-24  1264.5   34998.0  1264.3  1273.2  1256.9\n",
       "2509        2531  2014-01-23  1262.5   41697.0  1235.1  1267.1  1230.8\n",
       "2510        2532  2014-01-22  1238.6   80262.0  1240.5  1243.5  1235.5\n",
       "\n",
       "[2511 rows x 7 columns]"
      ],
      "text/html": [
       "<div>\n",
       "<style scoped>\n",
       "    .dataframe tbody tr th:only-of-type {\n",
       "        vertical-align: middle;\n",
       "    }\n",
       "\n",
       "    .dataframe tbody tr th {\n",
       "        vertical-align: top;\n",
       "    }\n",
       "\n",
       "    .dataframe thead th {\n",
       "        text-align: right;\n",
       "    }\n",
       "</style>\n",
       "<table border=\"1\" class=\"dataframe\">\n",
       "  <thead>\n",
       "    <tr style=\"text-align: right;\">\n",
       "      <th></th>\n",
       "      <th>Unnamed: 0</th>\n",
       "      <th>Date</th>\n",
       "      <th>Close</th>\n",
       "      <th>Volume</th>\n",
       "      <th>Open</th>\n",
       "      <th>High</th>\n",
       "      <th>Low</th>\n",
       "    </tr>\n",
       "  </thead>\n",
       "  <tbody>\n",
       "    <tr>\n",
       "      <th>0</th>\n",
       "      <td>0</td>\n",
       "      <td>2024-01-19</td>\n",
       "      <td>2029.3</td>\n",
       "      <td>166078.0</td>\n",
       "      <td>2027.4</td>\n",
       "      <td>2041.9</td>\n",
       "      <td>2022.2</td>\n",
       "    </tr>\n",
       "    <tr>\n",
       "      <th>1</th>\n",
       "      <td>1</td>\n",
       "      <td>2024-01-18</td>\n",
       "      <td>2021.6</td>\n",
       "      <td>167013.0</td>\n",
       "      <td>2009.1</td>\n",
       "      <td>2025.6</td>\n",
       "      <td>2007.7</td>\n",
       "    </tr>\n",
       "    <tr>\n",
       "      <th>2</th>\n",
       "      <td>2</td>\n",
       "      <td>2024-01-17</td>\n",
       "      <td>2006.5</td>\n",
       "      <td>245194.0</td>\n",
       "      <td>2031.7</td>\n",
       "      <td>2036.1</td>\n",
       "      <td>2004.6</td>\n",
       "    </tr>\n",
       "    <tr>\n",
       "      <th>3</th>\n",
       "      <td>3</td>\n",
       "      <td>2024-01-16</td>\n",
       "      <td>2030.2</td>\n",
       "      <td>277995.0</td>\n",
       "      <td>2053.4</td>\n",
       "      <td>2062.8</td>\n",
       "      <td>2027.6</td>\n",
       "    </tr>\n",
       "    <tr>\n",
       "      <th>4</th>\n",
       "      <td>4</td>\n",
       "      <td>2024-01-12</td>\n",
       "      <td>2051.6</td>\n",
       "      <td>250946.0</td>\n",
       "      <td>2033.2</td>\n",
       "      <td>2067.3</td>\n",
       "      <td>2033.1</td>\n",
       "    </tr>\n",
       "    <tr>\n",
       "      <th>...</th>\n",
       "      <td>...</td>\n",
       "      <td>...</td>\n",
       "      <td>...</td>\n",
       "      <td>...</td>\n",
       "      <td>...</td>\n",
       "      <td>...</td>\n",
       "      <td>...</td>\n",
       "    </tr>\n",
       "    <tr>\n",
       "      <th>2506</th>\n",
       "      <td>2528</td>\n",
       "      <td>2014-01-28</td>\n",
       "      <td>1250.5</td>\n",
       "      <td>81426.0</td>\n",
       "      <td>1254.9</td>\n",
       "      <td>1261.9</td>\n",
       "      <td>1248.0</td>\n",
       "    </tr>\n",
       "    <tr>\n",
       "      <th>2507</th>\n",
       "      <td>2529</td>\n",
       "      <td>2014-01-27</td>\n",
       "      <td>1263.5</td>\n",
       "      <td>63419.0</td>\n",
       "      <td>1269.9</td>\n",
       "      <td>1280.1</td>\n",
       "      <td>1252.0</td>\n",
       "    </tr>\n",
       "    <tr>\n",
       "      <th>2508</th>\n",
       "      <td>2530</td>\n",
       "      <td>2014-01-24</td>\n",
       "      <td>1264.5</td>\n",
       "      <td>34998.0</td>\n",
       "      <td>1264.3</td>\n",
       "      <td>1273.2</td>\n",
       "      <td>1256.9</td>\n",
       "    </tr>\n",
       "    <tr>\n",
       "      <th>2509</th>\n",
       "      <td>2531</td>\n",
       "      <td>2014-01-23</td>\n",
       "      <td>1262.5</td>\n",
       "      <td>41697.0</td>\n",
       "      <td>1235.1</td>\n",
       "      <td>1267.1</td>\n",
       "      <td>1230.8</td>\n",
       "    </tr>\n",
       "    <tr>\n",
       "      <th>2510</th>\n",
       "      <td>2532</td>\n",
       "      <td>2014-01-22</td>\n",
       "      <td>1238.6</td>\n",
       "      <td>80262.0</td>\n",
       "      <td>1240.5</td>\n",
       "      <td>1243.5</td>\n",
       "      <td>1235.5</td>\n",
       "    </tr>\n",
       "  </tbody>\n",
       "</table>\n",
       "<p>2511 rows × 7 columns</p>\n",
       "</div>"
      ]
     },
     "execution_count": 6,
     "metadata": {},
     "output_type": "execute_result"
    }
   ],
   "execution_count": 6
  },
  {
   "metadata": {
    "ExecuteTime": {
     "end_time": "2024-10-20T09:04:10.194554Z",
     "start_time": "2024-10-20T09:04:10.184803Z"
    }
   },
   "cell_type": "code",
   "source": "data.shape",
   "id": "6736a8ffde50a6ea",
   "outputs": [
    {
     "data": {
      "text/plain": [
       "(2511, 7)"
      ]
     },
     "execution_count": 4,
     "metadata": {},
     "output_type": "execute_result"
    }
   ],
   "execution_count": 4
  },
  {
   "metadata": {
    "ExecuteTime": {
     "end_time": "2024-10-20T09:04:38.080895Z",
     "start_time": "2024-10-20T09:04:38.050775Z"
    }
   },
   "cell_type": "code",
   "source": "data.tail(5)",
   "id": "e568b0b0c5baa86b",
   "outputs": [
    {
     "data": {
      "text/plain": [
       "      Unnamed: 0        Date   Close   Volume    Open    High     Low\n",
       "2506        2528  2014-01-28  1250.5  81426.0  1254.9  1261.9  1248.0\n",
       "2507        2529  2014-01-27  1263.5  63419.0  1269.9  1280.1  1252.0\n",
       "2508        2530  2014-01-24  1264.5  34998.0  1264.3  1273.2  1256.9\n",
       "2509        2531  2014-01-23  1262.5  41697.0  1235.1  1267.1  1230.8\n",
       "2510        2532  2014-01-22  1238.6  80262.0  1240.5  1243.5  1235.5"
      ],
      "text/html": [
       "<div>\n",
       "<style scoped>\n",
       "    .dataframe tbody tr th:only-of-type {\n",
       "        vertical-align: middle;\n",
       "    }\n",
       "\n",
       "    .dataframe tbody tr th {\n",
       "        vertical-align: top;\n",
       "    }\n",
       "\n",
       "    .dataframe thead th {\n",
       "        text-align: right;\n",
       "    }\n",
       "</style>\n",
       "<table border=\"1\" class=\"dataframe\">\n",
       "  <thead>\n",
       "    <tr style=\"text-align: right;\">\n",
       "      <th></th>\n",
       "      <th>Unnamed: 0</th>\n",
       "      <th>Date</th>\n",
       "      <th>Close</th>\n",
       "      <th>Volume</th>\n",
       "      <th>Open</th>\n",
       "      <th>High</th>\n",
       "      <th>Low</th>\n",
       "    </tr>\n",
       "  </thead>\n",
       "  <tbody>\n",
       "    <tr>\n",
       "      <th>2506</th>\n",
       "      <td>2528</td>\n",
       "      <td>2014-01-28</td>\n",
       "      <td>1250.5</td>\n",
       "      <td>81426.0</td>\n",
       "      <td>1254.9</td>\n",
       "      <td>1261.9</td>\n",
       "      <td>1248.0</td>\n",
       "    </tr>\n",
       "    <tr>\n",
       "      <th>2507</th>\n",
       "      <td>2529</td>\n",
       "      <td>2014-01-27</td>\n",
       "      <td>1263.5</td>\n",
       "      <td>63419.0</td>\n",
       "      <td>1269.9</td>\n",
       "      <td>1280.1</td>\n",
       "      <td>1252.0</td>\n",
       "    </tr>\n",
       "    <tr>\n",
       "      <th>2508</th>\n",
       "      <td>2530</td>\n",
       "      <td>2014-01-24</td>\n",
       "      <td>1264.5</td>\n",
       "      <td>34998.0</td>\n",
       "      <td>1264.3</td>\n",
       "      <td>1273.2</td>\n",
       "      <td>1256.9</td>\n",
       "    </tr>\n",
       "    <tr>\n",
       "      <th>2509</th>\n",
       "      <td>2531</td>\n",
       "      <td>2014-01-23</td>\n",
       "      <td>1262.5</td>\n",
       "      <td>41697.0</td>\n",
       "      <td>1235.1</td>\n",
       "      <td>1267.1</td>\n",
       "      <td>1230.8</td>\n",
       "    </tr>\n",
       "    <tr>\n",
       "      <th>2510</th>\n",
       "      <td>2532</td>\n",
       "      <td>2014-01-22</td>\n",
       "      <td>1238.6</td>\n",
       "      <td>80262.0</td>\n",
       "      <td>1240.5</td>\n",
       "      <td>1243.5</td>\n",
       "      <td>1235.5</td>\n",
       "    </tr>\n",
       "  </tbody>\n",
       "</table>\n",
       "</div>"
      ]
     },
     "execution_count": 5,
     "metadata": {},
     "output_type": "execute_result"
    }
   ],
   "execution_count": 5
  },
  {
   "metadata": {
    "ExecuteTime": {
     "end_time": "2024-10-20T09:22:24.648891Z",
     "start_time": "2024-10-20T09:22:24.634390Z"
    }
   },
   "cell_type": "code",
   "source": [
    "X = data.drop([\"Volume\", \"Date\", \"Unnamed: 0\"], axis=1)\n",
    "y = data[\"Volume\"]\n"
   ],
   "id": "bc51953aa6dbf9eb",
   "outputs": [
    {
     "data": {
      "text/plain": [
       "(2511, 5)"
      ]
     },
     "execution_count": 8,
     "metadata": {},
     "output_type": "execute_result"
    }
   ],
   "execution_count": 8
  },
  {
   "metadata": {
    "ExecuteTime": {
     "end_time": "2024-10-20T09:42:54.019917Z",
     "start_time": "2024-10-20T09:42:53.451857Z"
    }
   },
   "cell_type": "code",
   "source": [
    "from sklearn.model_selection import train_test_split\n",
    "from sklearn.linear_model import LinearRegression\n",
    "from sklearn.metrics import mean_squared_error, mean_absolute_error, r2_score"
   ],
   "id": "997ad72978f857c5",
   "outputs": [],
   "execution_count": 10
  },
  {
   "metadata": {
    "ExecuteTime": {
     "end_time": "2024-10-20T09:49:51.965355Z",
     "start_time": "2024-10-20T09:49:51.945282Z"
    }
   },
   "cell_type": "code",
   "source": [
    "model = LinearRegression()\n",
    "\n",
    "\n",
    "x_train, x_test, y_train, y_test = train_test_split(X, y, test_size=0.2, random_state=42)\n",
    "model.fit(x_train, y_train)\n",
    "y_pred = model.predict(x_test)\n",
    "\n",
    "mse = mean_squared_error(y_test, y_pred)\n",
    "mae = mean_absolute_error(y_test, y_pred)\n",
    "r2 = r2_score(y_test, y_pred)\n",
    "print(f\"MSE: {mse}\")\n",
    "print(f\"MAE: {mae}\")\n",
    "print(f\"R2: {r2}\")"
   ],
   "id": "aaeaa51c708edec9",
   "outputs": [
    {
     "name": "stdout",
     "output_type": "stream",
     "text": [
      "MSE: 7393826387.333776\n",
      "MAE: 62011.32649529777\n",
      "R2: 0.2226804398632729\n"
     ]
    }
   ],
   "execution_count": 14
  },
  {
   "metadata": {
    "ExecuteTime": {
     "end_time": "2024-10-20T09:48:34.171683Z",
     "start_time": "2024-10-20T09:48:34.151621Z"
    }
   },
   "cell_type": "code",
   "source": "print(data[\"Volume\"].describe())",
   "id": "eca85978e8ea1a47",
   "outputs": [
    {
     "name": "stdout",
     "output_type": "stream",
     "text": [
      "count      2511.000000\n",
      "mean     185970.770609\n",
      "std       97600.769382\n",
      "min           1.000000\n",
      "25%      126693.500000\n",
      "50%      175421.000000\n",
      "75%      234832.000000\n",
      "max      787217.000000\n",
      "Name: Volume, dtype: float64\n"
     ]
    }
   ],
   "execution_count": 13
  },
  {
   "metadata": {
    "ExecuteTime": {
     "end_time": "2024-10-20T10:23:11.177102Z",
     "start_time": "2024-10-20T10:23:11.154215Z"
    }
   },
   "cell_type": "code",
   "source": [
    "from sklearn.linear_model import Ridge, Lasso\n",
    "model = Ridge(alpha=1)\n",
    "\n",
    "\n",
    "x_train, x_test, y_train, y_test = train_test_split(X, y, test_size=0.2, random_state=42)\n",
    "model.fit(x_train, y_train)\n",
    "y_pred = model.predict(x_test)\n",
    "\n",
    "mse = mean_squared_error(y_test, y_pred)\n",
    "mae = mean_absolute_error(y_test, y_pred)\n",
    "r2 = r2_score(y_test, y_pred)\n",
    "print(f\"MSE: {mse}\")\n",
    "print(f\"MAE: {mae}\")\n",
    "print(f\"R2: {r2}\")"
   ],
   "id": "f36ea7f99936a896",
   "outputs": [
    {
     "name": "stdout",
     "output_type": "stream",
     "text": [
      "MSE: 7393829434.0584545\n",
      "MAE: 62011.35580052156\n",
      "R2: 0.22268011955839107\n"
     ]
    }
   ],
   "execution_count": 25
  },
  {
   "metadata": {
    "ExecuteTime": {
     "end_time": "2024-10-20T10:27:58.494856Z",
     "start_time": "2024-10-20T10:27:58.456728Z"
    }
   },
   "cell_type": "code",
   "source": [
    "model = Lasso(alpha=0.1)\n",
    "\n",
    "\n",
    "x_train, x_test, y_train, y_test = train_test_split(X, y, test_size=0.2, random_state=42)\n",
    "model.fit(x_train, y_train)\n",
    "y_pred = model.predict(x_test)\n",
    "\n",
    "mse = mean_squared_error(y_test, y_pred)\n",
    "mae = mean_absolute_error(y_test, y_pred)\n",
    "r2 = r2_score(y_test, y_pred)\n",
    "print(f\"MSE: {mse}\")\n",
    "print(f\"MAE: {mae}\")\n",
    "print(f\"R2: {r2}\")"
   ],
   "id": "9d407eebfe435a17",
   "outputs": [
    {
     "name": "stdout",
     "output_type": "stream",
     "text": [
      "MSE: 7806428472.157186\n",
      "MAE: 64411.621753561005\n",
      "R2: 0.17930321482646994\n"
     ]
    },
    {
     "name": "stderr",
     "output_type": "stream",
     "text": [
      "C:\\Users\\azama\\PycharmProjects\\pythonProject1\\.venv\\Lib\\site-packages\\sklearn\\linear_model\\_coordinate_descent.py:697: ConvergenceWarning: Objective did not converge. You might want to increase the number of iterations, check the scale of the features or consider increasing regularisation. Duality gap: 8.353e+12, tolerance: 1.912e+09\n",
      "  model = cd_fast.enet_coordinate_descent(\n"
     ]
    }
   ],
   "execution_count": 30
  },
  {
   "metadata": {
    "ExecuteTime": {
     "end_time": "2024-10-20T11:22:32.707528Z",
     "start_time": "2024-10-20T11:22:32.678516Z"
    }
   },
   "cell_type": "code",
   "source": [
    "from sklearn.preprocessing import StandardScaler, MinMaxScaler\n",
    "model = LinearRegression()\n",
    "\n",
    "\n",
    "x_train, x_test, y_train, y_test = train_test_split(X, y, test_size=0.2, random_state=42)\n",
    "\n",
    "scaler = MinMaxScaler()\n",
    "scaler.fit(x_train)\n",
    "x_train_scaled = scaler.fit_transform(x_train)\n",
    "x_test_scaled = scaler.transform(x_test)\n",
    "\n",
    "\n",
    "model.fit(x_train_scaled, y_train)\n",
    "y_pred = model.predict(x_test_scaled)\n",
    "\n",
    "\n",
    "mse = mean_squared_error(y_test, y_pred)\n",
    "mae = mean_absolute_error(y_test, y_pred)\n",
    "r2 = r2_score(y_test, y_pred)\n",
    "print(f\"MSE: {mse}\")\n",
    "print(f\"MAE: {mae}\")\n",
    "print(f\"R2: {r2}\")"
   ],
   "id": "91bb6b7966fa72e7",
   "outputs": [
    {
     "name": "stdout",
     "output_type": "stream",
     "text": [
      "MSE: 7393826387.333761\n",
      "MAE: 62011.32649529791\n",
      "R2: 0.22268043986327457\n"
     ]
    }
   ],
   "execution_count": 31
  },
  {
   "metadata": {
    "ExecuteTime": {
     "end_time": "2024-10-20T11:23:08.422502Z",
     "start_time": "2024-10-20T11:23:08.403016Z"
    }
   },
   "cell_type": "code",
   "source": [
    "model = LinearRegression()\n",
    "\n",
    "\n",
    "x_train, x_test, y_train, y_test = train_test_split(X, y, test_size=0.2, random_state=42)\n",
    "\n",
    "scaler = StandardScaler()\n",
    "scaler.fit(x_train)\n",
    "x_train_scaled = scaler.fit_transform(x_train)\n",
    "x_test_scaled = scaler.transform(x_test)\n",
    "\n",
    "\n",
    "model.fit(x_train_scaled, y_train)\n",
    "y_pred = model.predict(x_test_scaled)\n",
    "\n",
    "\n",
    "mse = mean_squared_error(y_test, y_pred)\n",
    "mae = mean_absolute_error(y_test, y_pred)\n",
    "r2 = r2_score(y_test, y_pred)\n",
    "print(f\"MSE: {mse}\")\n",
    "print(f\"MAE: {mae}\")\n",
    "print(f\"R2: {r2}\")"
   ],
   "id": "12323f4325a15164",
   "outputs": [
    {
     "name": "stdout",
     "output_type": "stream",
     "text": [
      "MSE: 7393826387.33377\n",
      "MAE: 62011.32649529801\n",
      "R2: 0.22268043986327357\n"
     ]
    }
   ],
   "execution_count": 32
  },
  {
   "metadata": {
    "ExecuteTime": {
     "end_time": "2024-10-20T11:24:06.299828Z",
     "start_time": "2024-10-20T11:24:06.267680Z"
    }
   },
   "cell_type": "code",
   "source": "data",
   "id": "73bc7b07918b572e",
   "outputs": [
    {
     "data": {
      "text/plain": [
       "      Unnamed: 0        Date   Close    Volume    Open    High     Low\n",
       "0              0  2024-01-19  2029.3  166078.0  2027.4  2041.9  2022.2\n",
       "1              1  2024-01-18  2021.6  167013.0  2009.1  2025.6  2007.7\n",
       "2              2  2024-01-17  2006.5  245194.0  2031.7  2036.1  2004.6\n",
       "3              3  2024-01-16  2030.2  277995.0  2053.4  2062.8  2027.6\n",
       "4              4  2024-01-12  2051.6  250946.0  2033.2  2067.3  2033.1\n",
       "...          ...         ...     ...       ...     ...     ...     ...\n",
       "2506        2528  2014-01-28  1250.5   81426.0  1254.9  1261.9  1248.0\n",
       "2507        2529  2014-01-27  1263.5   63419.0  1269.9  1280.1  1252.0\n",
       "2508        2530  2014-01-24  1264.5   34998.0  1264.3  1273.2  1256.9\n",
       "2509        2531  2014-01-23  1262.5   41697.0  1235.1  1267.1  1230.8\n",
       "2510        2532  2014-01-22  1238.6   80262.0  1240.5  1243.5  1235.5\n",
       "\n",
       "[2511 rows x 7 columns]"
      ],
      "text/html": [
       "<div>\n",
       "<style scoped>\n",
       "    .dataframe tbody tr th:only-of-type {\n",
       "        vertical-align: middle;\n",
       "    }\n",
       "\n",
       "    .dataframe tbody tr th {\n",
       "        vertical-align: top;\n",
       "    }\n",
       "\n",
       "    .dataframe thead th {\n",
       "        text-align: right;\n",
       "    }\n",
       "</style>\n",
       "<table border=\"1\" class=\"dataframe\">\n",
       "  <thead>\n",
       "    <tr style=\"text-align: right;\">\n",
       "      <th></th>\n",
       "      <th>Unnamed: 0</th>\n",
       "      <th>Date</th>\n",
       "      <th>Close</th>\n",
       "      <th>Volume</th>\n",
       "      <th>Open</th>\n",
       "      <th>High</th>\n",
       "      <th>Low</th>\n",
       "    </tr>\n",
       "  </thead>\n",
       "  <tbody>\n",
       "    <tr>\n",
       "      <th>0</th>\n",
       "      <td>0</td>\n",
       "      <td>2024-01-19</td>\n",
       "      <td>2029.3</td>\n",
       "      <td>166078.0</td>\n",
       "      <td>2027.4</td>\n",
       "      <td>2041.9</td>\n",
       "      <td>2022.2</td>\n",
       "    </tr>\n",
       "    <tr>\n",
       "      <th>1</th>\n",
       "      <td>1</td>\n",
       "      <td>2024-01-18</td>\n",
       "      <td>2021.6</td>\n",
       "      <td>167013.0</td>\n",
       "      <td>2009.1</td>\n",
       "      <td>2025.6</td>\n",
       "      <td>2007.7</td>\n",
       "    </tr>\n",
       "    <tr>\n",
       "      <th>2</th>\n",
       "      <td>2</td>\n",
       "      <td>2024-01-17</td>\n",
       "      <td>2006.5</td>\n",
       "      <td>245194.0</td>\n",
       "      <td>2031.7</td>\n",
       "      <td>2036.1</td>\n",
       "      <td>2004.6</td>\n",
       "    </tr>\n",
       "    <tr>\n",
       "      <th>3</th>\n",
       "      <td>3</td>\n",
       "      <td>2024-01-16</td>\n",
       "      <td>2030.2</td>\n",
       "      <td>277995.0</td>\n",
       "      <td>2053.4</td>\n",
       "      <td>2062.8</td>\n",
       "      <td>2027.6</td>\n",
       "    </tr>\n",
       "    <tr>\n",
       "      <th>4</th>\n",
       "      <td>4</td>\n",
       "      <td>2024-01-12</td>\n",
       "      <td>2051.6</td>\n",
       "      <td>250946.0</td>\n",
       "      <td>2033.2</td>\n",
       "      <td>2067.3</td>\n",
       "      <td>2033.1</td>\n",
       "    </tr>\n",
       "    <tr>\n",
       "      <th>...</th>\n",
       "      <td>...</td>\n",
       "      <td>...</td>\n",
       "      <td>...</td>\n",
       "      <td>...</td>\n",
       "      <td>...</td>\n",
       "      <td>...</td>\n",
       "      <td>...</td>\n",
       "    </tr>\n",
       "    <tr>\n",
       "      <th>2506</th>\n",
       "      <td>2528</td>\n",
       "      <td>2014-01-28</td>\n",
       "      <td>1250.5</td>\n",
       "      <td>81426.0</td>\n",
       "      <td>1254.9</td>\n",
       "      <td>1261.9</td>\n",
       "      <td>1248.0</td>\n",
       "    </tr>\n",
       "    <tr>\n",
       "      <th>2507</th>\n",
       "      <td>2529</td>\n",
       "      <td>2014-01-27</td>\n",
       "      <td>1263.5</td>\n",
       "      <td>63419.0</td>\n",
       "      <td>1269.9</td>\n",
       "      <td>1280.1</td>\n",
       "      <td>1252.0</td>\n",
       "    </tr>\n",
       "    <tr>\n",
       "      <th>2508</th>\n",
       "      <td>2530</td>\n",
       "      <td>2014-01-24</td>\n",
       "      <td>1264.5</td>\n",
       "      <td>34998.0</td>\n",
       "      <td>1264.3</td>\n",
       "      <td>1273.2</td>\n",
       "      <td>1256.9</td>\n",
       "    </tr>\n",
       "    <tr>\n",
       "      <th>2509</th>\n",
       "      <td>2531</td>\n",
       "      <td>2014-01-23</td>\n",
       "      <td>1262.5</td>\n",
       "      <td>41697.0</td>\n",
       "      <td>1235.1</td>\n",
       "      <td>1267.1</td>\n",
       "      <td>1230.8</td>\n",
       "    </tr>\n",
       "    <tr>\n",
       "      <th>2510</th>\n",
       "      <td>2532</td>\n",
       "      <td>2014-01-22</td>\n",
       "      <td>1238.6</td>\n",
       "      <td>80262.0</td>\n",
       "      <td>1240.5</td>\n",
       "      <td>1243.5</td>\n",
       "      <td>1235.5</td>\n",
       "    </tr>\n",
       "  </tbody>\n",
       "</table>\n",
       "<p>2511 rows × 7 columns</p>\n",
       "</div>"
      ]
     },
     "execution_count": 33,
     "metadata": {},
     "output_type": "execute_result"
    }
   ],
   "execution_count": 33
  },
  {
   "metadata": {
    "ExecuteTime": {
     "end_time": "2024-10-20T11:33:56.908719Z",
     "start_time": "2024-10-20T11:33:56.742934Z"
    }
   },
   "cell_type": "code",
   "source": [
    "X = data[[\"Open\"]]\n",
    "y = data[\"Close\"]\n",
    "\n",
    "model = LinearRegression()\n",
    "x_train, x_test, y_train, y_test = train_test_split(X, y, test_size=0.2, random_state=42)\n",
    "model.fit(x_train, y_train)\n",
    "y_pred = model.predict(x_test)\n",
    "\n",
    "from matplotlib import pyplot as plt\n",
    "plt.scatter(x_test, y_test, color=\"blue\", label=\"Test\")\n",
    "plt.plot(x_test, y_pred, color='red', label=\"Prediction\")\n",
    "plt.title(\"Linear Regression\")\n",
    "plt.xlabel(\"Opening\")\n",
    "plt.ylabel(\"Closing\")\n",
    "plt.legend()\n",
    "plt.show()"
   ],
   "id": "90a8bec1fb4ecf78",
   "outputs": [
    {
     "data": {
      "text/plain": [
       "<Figure size 640x480 with 1 Axes>"
      ],
      "image/png": "[encoded data removed]"
     },
     "metadata": {},
     "output_type": "display_data"
    }
   ],
   "execution_count": 37
  },
  {
   "metadata": {},
   "cell_type": "code",
   "outputs": [],
   "execution_count": null,
   "source": "",
   "id": "53c111afb64c3987"
  }
 ],
 "metadata": {
  "kernelspec": {
   "display_name": "Python 3",
   "language": "python",
   "name": "python3"
  },
  "language_info": {
   "codemirror_mode": {
    "name": "ipython",
    "version": 2
   },
   "file_extension": ".py",
   "mimetype": "text/x-python",
   "name": "python",
   "nbconvert_exporter": "python",
   "pygments_lexer": "ipython2",
   "version": "2.7.6"
  }
 },
 "nbformat": 4,
 "nbformat_minor": 5
}
